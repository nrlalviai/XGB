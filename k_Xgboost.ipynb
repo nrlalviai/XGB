{
  "cells": [
    {
      "cell_type": "code",
      "execution_count": null,
      "metadata": {
        "id": "a6c2bb64"
      },
      "outputs": [],
      "source": [
        "import io\n",
        "import os\n",
        "import math\n",
        "import matplotlib.pyplot as plt\n",
        "import numpy as np\n",
        "from numpy.random import seed\n",
        "seed(1)\n",
        "import pandas as pd\n",
        "import statsmodels.api as sm\n",
        "import statsmodels.formula.api as smf\n",
        "import shutil\n",
        "import pickle as pk\n",
        "import seaborn as sns\n",
        "\n",
        "import tensorflow\n",
        "tensorflow.random.set_seed(1)\n",
        "from tensorflow.python.keras.layers import Dense\n",
        "from tensorflow.keras.layers import Dropout\n",
        "from tensorflow.python.keras.models import Sequential\n",
        "\n",
        "from sklearn.metrics import mean_absolute_error\n",
        "from sklearn.metrics import mean_squared_error\n",
        "from sklearn.model_selection import train_test_split\n",
        "from sklearn.preprocessing import MinMaxScaler\n",
        "from sklearn.model_selection import train_test_split\n",
        "from sklearn.model_selection import ShuffleSplit\n",
        "from sklearn.model_selection import cross_val_score, KFold\n",
        "from sklearn.metrics import mean_squared_error\n",
        "from sklearn.preprocessing import StandardScaler\n",
        "from sklearn.metrics import r2_score\n",
        "from sklearn import metrics\n",
        "\n",
        "\n",
        "from keras import models\n",
        "from keras import layers\n",
        "from keras.callbacks import EarlyStopping, ModelCheckpoint\n",
        "from keras.models import load_model"
      ],
      "id": "a6c2bb64"
    },
    {
      "cell_type": "code",
      "source": [
        "from google.colab import drive\n",
        "drive.mount('./mount')"
      ],
      "metadata": {
        "colab": {
          "base_uri": "https://localhost:8080/"
        },
        "id": "oGEHwY3QZ9Ha",
        "outputId": "f4195970-b499-4cc5-a31f-789d297c6577"
      },
      "id": "oGEHwY3QZ9Ha",
      "execution_count": null,
      "outputs": [
        {
          "output_type": "stream",
          "name": "stdout",
          "text": [
            "Mounted at ./mount\n"
          ]
        }
      ]
    },
    {
      "cell_type": "code",
      "source": [
        "folder_path = '/content/mount/MyDrive/Colab Notebooks/nitrate/'\n",
        "readDataset_name = 'nitrate_k.csv'\n",
        "dataset_path = folder_path + readDataset_name\n",
        "df = pd.read_csv(dataset_path, header=0)\n",
        "print(df)"
      ],
      "metadata": {
        "colab": {
          "base_uri": "https://localhost:8080/"
        },
        "id": "pYQpkznUaG3J",
        "outputId": "84cdbeb5-5aab-4c07-a5e5-0482100be554"
      },
      "id": "pYQpkznUaG3J",
      "execution_count": null,
      "outputs": [
        {
          "output_type": "stream",
          "name": "stdout",
          "text": [
            "         size  surface   zvi   ph oxygen  temp  nitrate         k\n",
            "0       90.00    49.46  2.88  6.7      A    30    100.0  0.033300\n",
            "1    85000.00     0.06  2.00  2.0     AN    20     25.0  0.017200\n",
            "2       30.00    62.20  0.05  6.0     AN    25     20.0  0.024400\n",
            "3       16.70    79.06  1.25  7.0     AN    30    100.0  0.068000\n",
            "4       75.00     4.20  0.50  7.0     AA    25     62.0  0.004417\n",
            "..        ...      ...   ...  ...    ...   ...      ...       ...\n",
            "283     50.00    39.36  2.00  7.0      A    20     70.0  0.015000\n",
            "284     50.00    39.36  2.00  3.0      A    20     50.0  0.091000\n",
            "285     11.65    17.96  4.00  6.0     AA    20     20.0  0.021600\n",
            "286     50.00    39.36  5.00  5.0      A    20     95.0  0.029000\n",
            "287     11.65    17.96  4.00  9.0     AA    20     20.0  0.004900\n",
            "\n",
            "[288 rows x 8 columns]\n"
          ]
        }
      ]
    },
    {
      "cell_type": "code",
      "source": [
        "df.describe()"
      ],
      "metadata": {
        "id": "eCK_KXywN9Mq",
        "colab": {
          "base_uri": "https://localhost:8080/",
          "height": 300
        },
        "outputId": "85327794-2483-40ad-ab80-f1c9b9fe62ac"
      },
      "id": "eCK_KXywN9Mq",
      "execution_count": null,
      "outputs": [
        {
          "output_type": "execute_result",
          "data": {
            "text/plain": [
              "                size     surface         zvi          ph        temp  \\\n",
              "count     288.000000  288.000000  288.000000  288.000000  288.000000   \n",
              "mean    71303.421875   25.749733    4.065785    5.772535   22.743056   \n",
              "std    164721.403808   24.798740   11.082179    2.154485    7.452284   \n",
              "min         4.000000    0.010000    0.030000    1.220000   10.000000   \n",
              "25%        39.000000    1.227500    0.500000    4.375000   20.000000   \n",
              "50%        80.000000   17.960000    1.000000    6.700000   20.000000   \n",
              "75%     74000.000000   44.100000    4.000000    7.000000   25.000000   \n",
              "max    841000.000000  133.987000  100.000000   11.000000   75.000000   \n",
              "\n",
              "          nitrate           k  \n",
              "count  288.000000  288.000000  \n",
              "mean    77.060764    0.044487  \n",
              "std     97.038602    0.074222  \n",
              "min     10.000000    0.000200  \n",
              "25%     30.000000    0.004867  \n",
              "50%     50.000000    0.017100  \n",
              "75%     80.000000    0.046050  \n",
              "max    500.000000    0.543600  "
            ],
            "text/html": [
              "\n",
              "  <div id=\"df-85ce8157-9370-4faf-ac84-365658678e4f\">\n",
              "    <div class=\"colab-df-container\">\n",
              "      <div>\n",
              "<style scoped>\n",
              "    .dataframe tbody tr th:only-of-type {\n",
              "        vertical-align: middle;\n",
              "    }\n",
              "\n",
              "    .dataframe tbody tr th {\n",
              "        vertical-align: top;\n",
              "    }\n",
              "\n",
              "    .dataframe thead th {\n",
              "        text-align: right;\n",
              "    }\n",
              "</style>\n",
              "<table border=\"1\" class=\"dataframe\">\n",
              "  <thead>\n",
              "    <tr style=\"text-align: right;\">\n",
              "      <th></th>\n",
              "      <th>size</th>\n",
              "      <th>surface</th>\n",
              "      <th>zvi</th>\n",
              "      <th>ph</th>\n",
              "      <th>temp</th>\n",
              "      <th>nitrate</th>\n",
              "      <th>k</th>\n",
              "    </tr>\n",
              "  </thead>\n",
              "  <tbody>\n",
              "    <tr>\n",
              "      <th>count</th>\n",
              "      <td>288.000000</td>\n",
              "      <td>288.000000</td>\n",
              "      <td>288.000000</td>\n",
              "      <td>288.000000</td>\n",
              "      <td>288.000000</td>\n",
              "      <td>288.000000</td>\n",
              "      <td>288.000000</td>\n",
              "    </tr>\n",
              "    <tr>\n",
              "      <th>mean</th>\n",
              "      <td>71303.421875</td>\n",
              "      <td>25.749733</td>\n",
              "      <td>4.065785</td>\n",
              "      <td>5.772535</td>\n",
              "      <td>22.743056</td>\n",
              "      <td>77.060764</td>\n",
              "      <td>0.044487</td>\n",
              "    </tr>\n",
              "    <tr>\n",
              "      <th>std</th>\n",
              "      <td>164721.403808</td>\n",
              "      <td>24.798740</td>\n",
              "      <td>11.082179</td>\n",
              "      <td>2.154485</td>\n",
              "      <td>7.452284</td>\n",
              "      <td>97.038602</td>\n",
              "      <td>0.074222</td>\n",
              "    </tr>\n",
              "    <tr>\n",
              "      <th>min</th>\n",
              "      <td>4.000000</td>\n",
              "      <td>0.010000</td>\n",
              "      <td>0.030000</td>\n",
              "      <td>1.220000</td>\n",
              "      <td>10.000000</td>\n",
              "      <td>10.000000</td>\n",
              "      <td>0.000200</td>\n",
              "    </tr>\n",
              "    <tr>\n",
              "      <th>25%</th>\n",
              "      <td>39.000000</td>\n",
              "      <td>1.227500</td>\n",
              "      <td>0.500000</td>\n",
              "      <td>4.375000</td>\n",
              "      <td>20.000000</td>\n",
              "      <td>30.000000</td>\n",
              "      <td>0.004867</td>\n",
              "    </tr>\n",
              "    <tr>\n",
              "      <th>50%</th>\n",
              "      <td>80.000000</td>\n",
              "      <td>17.960000</td>\n",
              "      <td>1.000000</td>\n",
              "      <td>6.700000</td>\n",
              "      <td>20.000000</td>\n",
              "      <td>50.000000</td>\n",
              "      <td>0.017100</td>\n",
              "    </tr>\n",
              "    <tr>\n",
              "      <th>75%</th>\n",
              "      <td>74000.000000</td>\n",
              "      <td>44.100000</td>\n",
              "      <td>4.000000</td>\n",
              "      <td>7.000000</td>\n",
              "      <td>25.000000</td>\n",
              "      <td>80.000000</td>\n",
              "      <td>0.046050</td>\n",
              "    </tr>\n",
              "    <tr>\n",
              "      <th>max</th>\n",
              "      <td>841000.000000</td>\n",
              "      <td>133.987000</td>\n",
              "      <td>100.000000</td>\n",
              "      <td>11.000000</td>\n",
              "      <td>75.000000</td>\n",
              "      <td>500.000000</td>\n",
              "      <td>0.543600</td>\n",
              "    </tr>\n",
              "  </tbody>\n",
              "</table>\n",
              "</div>\n",
              "      <button class=\"colab-df-convert\" onclick=\"convertToInteractive('df-85ce8157-9370-4faf-ac84-365658678e4f')\"\n",
              "              title=\"Convert this dataframe to an interactive table.\"\n",
              "              style=\"display:none;\">\n",
              "        \n",
              "  <svg xmlns=\"http://www.w3.org/2000/svg\" height=\"24px\"viewBox=\"0 0 24 24\"\n",
              "       width=\"24px\">\n",
              "    <path d=\"M0 0h24v24H0V0z\" fill=\"none\"/>\n",
              "    <path d=\"M18.56 5.44l.94 2.06.94-2.06 2.06-.94-2.06-.94-.94-2.06-.94 2.06-2.06.94zm-11 1L8.5 8.5l.94-2.06 2.06-.94-2.06-.94L8.5 2.5l-.94 2.06-2.06.94zm10 10l.94 2.06.94-2.06 2.06-.94-2.06-.94-.94-2.06-.94 2.06-2.06.94z\"/><path d=\"M17.41 7.96l-1.37-1.37c-.4-.4-.92-.59-1.43-.59-.52 0-1.04.2-1.43.59L10.3 9.45l-7.72 7.72c-.78.78-.78 2.05 0 2.83L4 21.41c.39.39.9.59 1.41.59.51 0 1.02-.2 1.41-.59l7.78-7.78 2.81-2.81c.8-.78.8-2.07 0-2.86zM5.41 20L4 18.59l7.72-7.72 1.47 1.35L5.41 20z\"/>\n",
              "  </svg>\n",
              "      </button>\n",
              "      \n",
              "  <style>\n",
              "    .colab-df-container {\n",
              "      display:flex;\n",
              "      flex-wrap:wrap;\n",
              "      gap: 12px;\n",
              "    }\n",
              "\n",
              "    .colab-df-convert {\n",
              "      background-color: #E8F0FE;\n",
              "      border: none;\n",
              "      border-radius: 50%;\n",
              "      cursor: pointer;\n",
              "      display: none;\n",
              "      fill: #1967D2;\n",
              "      height: 32px;\n",
              "      padding: 0 0 0 0;\n",
              "      width: 32px;\n",
              "    }\n",
              "\n",
              "    .colab-df-convert:hover {\n",
              "      background-color: #E2EBFA;\n",
              "      box-shadow: 0px 1px 2px rgba(60, 64, 67, 0.3), 0px 1px 3px 1px rgba(60, 64, 67, 0.15);\n",
              "      fill: #174EA6;\n",
              "    }\n",
              "\n",
              "    [theme=dark] .colab-df-convert {\n",
              "      background-color: #3B4455;\n",
              "      fill: #D2E3FC;\n",
              "    }\n",
              "\n",
              "    [theme=dark] .colab-df-convert:hover {\n",
              "      background-color: #434B5C;\n",
              "      box-shadow: 0px 1px 3px 1px rgba(0, 0, 0, 0.15);\n",
              "      filter: drop-shadow(0px 1px 2px rgba(0, 0, 0, 0.3));\n",
              "      fill: #FFFFFF;\n",
              "    }\n",
              "  </style>\n",
              "\n",
              "      <script>\n",
              "        const buttonEl =\n",
              "          document.querySelector('#df-85ce8157-9370-4faf-ac84-365658678e4f button.colab-df-convert');\n",
              "        buttonEl.style.display =\n",
              "          google.colab.kernel.accessAllowed ? 'block' : 'none';\n",
              "\n",
              "        async function convertToInteractive(key) {\n",
              "          const element = document.querySelector('#df-85ce8157-9370-4faf-ac84-365658678e4f');\n",
              "          const dataTable =\n",
              "            await google.colab.kernel.invokeFunction('convertToInteractive',\n",
              "                                                     [key], {});\n",
              "          if (!dataTable) return;\n",
              "\n",
              "          const docLinkHtml = 'Like what you see? Visit the ' +\n",
              "            '<a target=\"_blank\" href=https://colab.research.google.com/notebooks/data_table.ipynb>data table notebook</a>'\n",
              "            + ' to learn more about interactive tables.';\n",
              "          element.innerHTML = '';\n",
              "          dataTable['output_type'] = 'display_data';\n",
              "          await google.colab.output.renderOutput(dataTable, element);\n",
              "          const docLink = document.createElement('div');\n",
              "          docLink.innerHTML = docLinkHtml;\n",
              "          element.appendChild(docLink);\n",
              "        }\n",
              "      </script>\n",
              "    </div>\n",
              "  </div>\n",
              "  "
            ]
          },
          "metadata": {},
          "execution_count": 7
        }
      ]
    },
    {
      "cell_type": "markdown",
      "source": [
        "Handling categorial variable"
      ],
      "metadata": {
        "id": "PzlTSvzyOfwx"
      },
      "id": "PzlTSvzyOfwx"
    },
    {
      "cell_type": "code",
      "source": [
        "print(df['oxygen'].unique())"
      ],
      "metadata": {
        "id": "Yu_Y_AsBOY8P",
        "colab": {
          "base_uri": "https://localhost:8080/"
        },
        "outputId": "43296a74-9f7f-46a0-bfe3-42e4be901b44"
      },
      "id": "Yu_Y_AsBOY8P",
      "execution_count": null,
      "outputs": [
        {
          "output_type": "stream",
          "name": "stdout",
          "text": [
            "['A' 'AN' 'AA']\n"
          ]
        }
      ]
    },
    {
      "cell_type": "code",
      "source": [
        "zvi_df = pd.get_dummies(df, columns = ['oxygen'])\n",
        "\n",
        "print(zvi_df)"
      ],
      "metadata": {
        "id": "5KNmhQjVdSRB",
        "colab": {
          "base_uri": "https://localhost:8080/"
        },
        "outputId": "9453fb58-4e19-4655-a84c-428dca562b7d"
      },
      "id": "5KNmhQjVdSRB",
      "execution_count": null,
      "outputs": [
        {
          "output_type": "stream",
          "name": "stdout",
          "text": [
            "         size  surface   zvi   ph  temp  nitrate         k  oxygen_A  \\\n",
            "0       90.00    49.46  2.88  6.7    30    100.0  0.033300         1   \n",
            "1    85000.00     0.06  2.00  2.0    20     25.0  0.017200         0   \n",
            "2       30.00    62.20  0.05  6.0    25     20.0  0.024400         0   \n",
            "3       16.70    79.06  1.25  7.0    30    100.0  0.068000         0   \n",
            "4       75.00     4.20  0.50  7.0    25     62.0  0.004417         0   \n",
            "..        ...      ...   ...  ...   ...      ...       ...       ...   \n",
            "283     50.00    39.36  2.00  7.0    20     70.0  0.015000         1   \n",
            "284     50.00    39.36  2.00  3.0    20     50.0  0.091000         1   \n",
            "285     11.65    17.96  4.00  6.0    20     20.0  0.021600         0   \n",
            "286     50.00    39.36  5.00  5.0    20     95.0  0.029000         1   \n",
            "287     11.65    17.96  4.00  9.0    20     20.0  0.004900         0   \n",
            "\n",
            "     oxygen_AA  oxygen_AN  \n",
            "0            0          0  \n",
            "1            0          1  \n",
            "2            0          1  \n",
            "3            0          1  \n",
            "4            1          0  \n",
            "..         ...        ...  \n",
            "283          0          0  \n",
            "284          0          0  \n",
            "285          1          0  \n",
            "286          0          0  \n",
            "287          1          0  \n",
            "\n",
            "[288 rows x 10 columns]\n"
          ]
        }
      ]
    },
    {
      "cell_type": "code",
      "source": [
        "saveDataset_name = 'nitrate-OHE.csv'\n",
        "saveDataset_path = folder_path + saveDataset_name\n",
        "\n",
        "if os.path.exists(saveDataset_path):\n",
        "  os.remove(saveDataset_path)\n",
        "  pass\n",
        "\n",
        "zvi_df.to_csv(saveDataset_path)\n",
        "print(zvi_df.loc[0,:]) # Print dataset row 1"
      ],
      "metadata": {
        "id": "huUfJa5JeUVU",
        "colab": {
          "base_uri": "https://localhost:8080/"
        },
        "outputId": "2980c1d0-2e9e-419a-827a-94af50074fc5"
      },
      "id": "huUfJa5JeUVU",
      "execution_count": null,
      "outputs": [
        {
          "output_type": "stream",
          "name": "stdout",
          "text": [
            "size          90.0000\n",
            "surface       49.4600\n",
            "zvi            2.8800\n",
            "ph             6.7000\n",
            "temp          30.0000\n",
            "nitrate      100.0000\n",
            "k              0.0333\n",
            "oxygen_A       1.0000\n",
            "oxygen_AA      0.0000\n",
            "oxygen_AN      0.0000\n",
            "Name: 0, dtype: float64\n"
          ]
        }
      ]
    },
    {
      "cell_type": "markdown",
      "metadata": {
        "id": "53ccbee5"
      },
      "source": [
        "Split the data - variable and target"
      ],
      "id": "53ccbee5"
    },
    {
      "cell_type": "code",
      "execution_count": null,
      "metadata": {
        "id": "5bc878e2"
      },
      "outputs": [],
      "source": [
        "target=['k']\n",
        "features=['size', 'surface', 'zvi', 'ph', 'temp', 'oxygen_A', 'oxygen_AA', 'oxygen_AN', 'nitrate']\n",
        "\n",
        "x=zvi_df[features].values\n",
        "y=zvi_df[target].values"
      ],
      "id": "5bc878e2"
    },
    {
      "cell_type": "markdown",
      "metadata": {
        "id": "4b9f6f46"
      },
      "source": [
        "Split the training and test data"
      ],
      "id": "4b9f6f46"
    },
    {
      "cell_type": "code",
      "source": [
        "x_train, x_test, y_train, y_test = train_test_split(x, y, test_size=0.1, random_state=42)"
      ],
      "metadata": {
        "id": "rMYqfK45j4i9"
      },
      "id": "rMYqfK45j4i9",
      "execution_count": null,
      "outputs": []
    },
    {
      "cell_type": "code",
      "source": [
        "print(x_train.shape)\n",
        "print(x_test.shape)"
      ],
      "metadata": {
        "id": "DsYGdqX38nae",
        "colab": {
          "base_uri": "https://localhost:8080/"
        },
        "outputId": "a8a5d4e9-457e-4171-9cc5-9d47f4d34feb"
      },
      "id": "DsYGdqX38nae",
      "execution_count": null,
      "outputs": [
        {
          "output_type": "stream",
          "name": "stdout",
          "text": [
            "(259, 9)\n",
            "(29, 9)\n"
          ]
        }
      ]
    },
    {
      "cell_type": "code",
      "source": [
        "saveDataset_name = 'x_test.csv'\n",
        "saveDataset_path = folder_path + saveDataset_name\n",
        "\n",
        "if os.path.exists(saveDataset_path):\n",
        "  os.remove(saveDataset_path)\n",
        "  pass\n",
        "\n",
        "pd.DataFrame(x_test).to_csv(saveDataset_path)"
      ],
      "metadata": {
        "id": "pkJuxxH113dM"
      },
      "id": "pkJuxxH113dM",
      "execution_count": null,
      "outputs": []
    },
    {
      "cell_type": "markdown",
      "metadata": {
        "id": "8578ec5f"
      },
      "source": [
        "#Xgboost model"
      ],
      "id": "8578ec5f"
    },
    {
      "cell_type": "code",
      "source": [
        "checkpoint_no = 'ckpt_1_xgboost'\n",
        "model_name = 'xgboost_nitrate'"
      ],
      "metadata": {
        "id": "rUtqUz_vWttW"
      },
      "id": "rUtqUz_vWttW",
      "execution_count": null,
      "outputs": []
    },
    {
      "cell_type": "code",
      "source": [
        "import xgboost as xgb"
      ],
      "metadata": {
        "id": "FnndHhcTldS-"
      },
      "id": "FnndHhcTldS-",
      "execution_count": null,
      "outputs": []
    },
    {
      "cell_type": "code",
      "source": [
        "%%time\n",
        "\n",
        "xgbr = xgb.XGBRegressor(learning_rate =0.1,\n",
        " n_estimators=1000,\n",
        " max_depth=7,\n",
        " min_child_weight=1,\n",
        " gamma=0,\n",
        " subsample=0.8,\n",
        " colsample_bytree=0.8,\n",
        " nthread=6,\n",
        " scale_pos_weight=1,\n",
        " seed=27, verbosity=0)\n",
        "print(xgbr)"
      ],
      "metadata": {
        "id": "bGFTv3Z9-DER",
        "colab": {
          "base_uri": "https://localhost:8080/"
        },
        "outputId": "f8dd93b4-e923-4ee7-d525-4b3c82badf74"
      },
      "id": "bGFTv3Z9-DER",
      "execution_count": null,
      "outputs": [
        {
          "output_type": "stream",
          "name": "stdout",
          "text": [
            "XGBRegressor(base_score=None, booster=None, callbacks=None,\n",
            "             colsample_bylevel=None, colsample_bynode=None,\n",
            "             colsample_bytree=0.8, early_stopping_rounds=None,\n",
            "             enable_categorical=False, eval_metric=None, feature_types=None,\n",
            "             gamma=0, gpu_id=None, grow_policy=None, importance_type=None,\n",
            "             interaction_constraints=None, learning_rate=0.1, max_bin=None,\n",
            "             max_cat_threshold=None, max_cat_to_onehot=None,\n",
            "             max_delta_step=None, max_depth=7, max_leaves=None,\n",
            "             min_child_weight=1, missing=nan, monotone_constraints=None,\n",
            "             n_estimators=1000, n_jobs=None, nthread=6, num_parallel_tree=None,\n",
            "             predictor=None, ...)\n",
            "CPU times: user 1.97 ms, sys: 683 µs, total: 2.65 ms\n",
            "Wall time: 3.08 ms\n"
          ]
        }
      ]
    },
    {
      "cell_type": "code",
      "source": [
        "%%time\n",
        "\n",
        "xgbr.fit(x_train, y_train)"
      ],
      "metadata": {
        "id": "0NzqhqBJ1Ke_",
        "colab": {
          "base_uri": "https://localhost:8080/",
          "height": 284
        },
        "outputId": "908541f6-a2e7-48c0-c28b-0c7a88280ff2"
      },
      "id": "0NzqhqBJ1Ke_",
      "execution_count": null,
      "outputs": [
        {
          "output_type": "stream",
          "name": "stdout",
          "text": [
            "CPU times: user 1.19 s, sys: 914 ms, total: 2.1 s\n",
            "Wall time: 1.49 s\n"
          ]
        },
        {
          "output_type": "execute_result",
          "data": {
            "text/plain": [
              "XGBRegressor(base_score=None, booster=None, callbacks=None,\n",
              "             colsample_bylevel=None, colsample_bynode=None,\n",
              "             colsample_bytree=0.8, early_stopping_rounds=None,\n",
              "             enable_categorical=False, eval_metric=None, feature_types=None,\n",
              "             gamma=0, gpu_id=None, grow_policy=None, importance_type=None,\n",
              "             interaction_constraints=None, learning_rate=0.1, max_bin=None,\n",
              "             max_cat_threshold=None, max_cat_to_onehot=None,\n",
              "             max_delta_step=None, max_depth=7, max_leaves=None,\n",
              "             min_child_weight=1, missing=nan, monotone_constraints=None,\n",
              "             n_estimators=1000, n_jobs=None, nthread=6, num_parallel_tree=None,\n",
              "             predictor=None, ...)"
            ],
            "text/html": [
              "<style>#sk-container-id-1 {color: black;background-color: white;}#sk-container-id-1 pre{padding: 0;}#sk-container-id-1 div.sk-toggleable {background-color: white;}#sk-container-id-1 label.sk-toggleable__label {cursor: pointer;display: block;width: 100%;margin-bottom: 0;padding: 0.3em;box-sizing: border-box;text-align: center;}#sk-container-id-1 label.sk-toggleable__label-arrow:before {content: \"▸\";float: left;margin-right: 0.25em;color: #696969;}#sk-container-id-1 label.sk-toggleable__label-arrow:hover:before {color: black;}#sk-container-id-1 div.sk-estimator:hover label.sk-toggleable__label-arrow:before {color: black;}#sk-container-id-1 div.sk-toggleable__content {max-height: 0;max-width: 0;overflow: hidden;text-align: left;background-color: #f0f8ff;}#sk-container-id-1 div.sk-toggleable__content pre {margin: 0.2em;color: black;border-radius: 0.25em;background-color: #f0f8ff;}#sk-container-id-1 input.sk-toggleable__control:checked~div.sk-toggleable__content {max-height: 200px;max-width: 100%;overflow: auto;}#sk-container-id-1 input.sk-toggleable__control:checked~label.sk-toggleable__label-arrow:before {content: \"▾\";}#sk-container-id-1 div.sk-estimator input.sk-toggleable__control:checked~label.sk-toggleable__label {background-color: #d4ebff;}#sk-container-id-1 div.sk-label input.sk-toggleable__control:checked~label.sk-toggleable__label {background-color: #d4ebff;}#sk-container-id-1 input.sk-hidden--visually {border: 0;clip: rect(1px 1px 1px 1px);clip: rect(1px, 1px, 1px, 1px);height: 1px;margin: -1px;overflow: hidden;padding: 0;position: absolute;width: 1px;}#sk-container-id-1 div.sk-estimator {font-family: monospace;background-color: #f0f8ff;border: 1px dotted black;border-radius: 0.25em;box-sizing: border-box;margin-bottom: 0.5em;}#sk-container-id-1 div.sk-estimator:hover {background-color: #d4ebff;}#sk-container-id-1 div.sk-parallel-item::after {content: \"\";width: 100%;border-bottom: 1px solid gray;flex-grow: 1;}#sk-container-id-1 div.sk-label:hover label.sk-toggleable__label {background-color: #d4ebff;}#sk-container-id-1 div.sk-serial::before {content: \"\";position: absolute;border-left: 1px solid gray;box-sizing: border-box;top: 0;bottom: 0;left: 50%;z-index: 0;}#sk-container-id-1 div.sk-serial {display: flex;flex-direction: column;align-items: center;background-color: white;padding-right: 0.2em;padding-left: 0.2em;position: relative;}#sk-container-id-1 div.sk-item {position: relative;z-index: 1;}#sk-container-id-1 div.sk-parallel {display: flex;align-items: stretch;justify-content: center;background-color: white;position: relative;}#sk-container-id-1 div.sk-item::before, #sk-container-id-1 div.sk-parallel-item::before {content: \"\";position: absolute;border-left: 1px solid gray;box-sizing: border-box;top: 0;bottom: 0;left: 50%;z-index: -1;}#sk-container-id-1 div.sk-parallel-item {display: flex;flex-direction: column;z-index: 1;position: relative;background-color: white;}#sk-container-id-1 div.sk-parallel-item:first-child::after {align-self: flex-end;width: 50%;}#sk-container-id-1 div.sk-parallel-item:last-child::after {align-self: flex-start;width: 50%;}#sk-container-id-1 div.sk-parallel-item:only-child::after {width: 0;}#sk-container-id-1 div.sk-dashed-wrapped {border: 1px dashed gray;margin: 0 0.4em 0.5em 0.4em;box-sizing: border-box;padding-bottom: 0.4em;background-color: white;}#sk-container-id-1 div.sk-label label {font-family: monospace;font-weight: bold;display: inline-block;line-height: 1.2em;}#sk-container-id-1 div.sk-label-container {text-align: center;}#sk-container-id-1 div.sk-container {/* jupyter's `normalize.less` sets `[hidden] { display: none; }` but bootstrap.min.css set `[hidden] { display: none !important; }` so we also need the `!important` here to be able to override the default hidden behavior on the sphinx rendered scikit-learn.org. See: https://github.com/scikit-learn/scikit-learn/issues/21755 */display: inline-block !important;position: relative;}#sk-container-id-1 div.sk-text-repr-fallback {display: none;}</style><div id=\"sk-container-id-1\" class=\"sk-top-container\"><div class=\"sk-text-repr-fallback\"><pre>XGBRegressor(base_score=None, booster=None, callbacks=None,\n",
              "             colsample_bylevel=None, colsample_bynode=None,\n",
              "             colsample_bytree=0.8, early_stopping_rounds=None,\n",
              "             enable_categorical=False, eval_metric=None, feature_types=None,\n",
              "             gamma=0, gpu_id=None, grow_policy=None, importance_type=None,\n",
              "             interaction_constraints=None, learning_rate=0.1, max_bin=None,\n",
              "             max_cat_threshold=None, max_cat_to_onehot=None,\n",
              "             max_delta_step=None, max_depth=7, max_leaves=None,\n",
              "             min_child_weight=1, missing=nan, monotone_constraints=None,\n",
              "             n_estimators=1000, n_jobs=None, nthread=6, num_parallel_tree=None,\n",
              "             predictor=None, ...)</pre><b>In a Jupyter environment, please rerun this cell to show the HTML representation or trust the notebook. <br />On GitHub, the HTML representation is unable to render, please try loading this page with nbviewer.org.</b></div><div class=\"sk-container\" hidden><div class=\"sk-item\"><div class=\"sk-estimator sk-toggleable\"><input class=\"sk-toggleable__control sk-hidden--visually\" id=\"sk-estimator-id-1\" type=\"checkbox\" checked><label for=\"sk-estimator-id-1\" class=\"sk-toggleable__label sk-toggleable__label-arrow\">XGBRegressor</label><div class=\"sk-toggleable__content\"><pre>XGBRegressor(base_score=None, booster=None, callbacks=None,\n",
              "             colsample_bylevel=None, colsample_bynode=None,\n",
              "             colsample_bytree=0.8, early_stopping_rounds=None,\n",
              "             enable_categorical=False, eval_metric=None, feature_types=None,\n",
              "             gamma=0, gpu_id=None, grow_policy=None, importance_type=None,\n",
              "             interaction_constraints=None, learning_rate=0.1, max_bin=None,\n",
              "             max_cat_threshold=None, max_cat_to_onehot=None,\n",
              "             max_delta_step=None, max_depth=7, max_leaves=None,\n",
              "             min_child_weight=1, missing=nan, monotone_constraints=None,\n",
              "             n_estimators=1000, n_jobs=None, nthread=6, num_parallel_tree=None,\n",
              "             predictor=None, ...)</pre></div></div></div></div></div>"
            ]
          },
          "metadata": {},
          "execution_count": 18
        }
      ]
    },
    {
      "cell_type": "markdown",
      "source": [
        "Run the model"
      ],
      "metadata": {
        "id": "OsCKYvQ6lr3w"
      },
      "id": "OsCKYvQ6lr3w"
    },
    {
      "cell_type": "code",
      "source": [
        "%%time\n",
        "\n",
        "score = xgbr.score(x_train, y_train)\n",
        "scores = cross_val_score(xgbr, x_train, y_train, cv=5)\n",
        "kfold = KFold(n_splits=5, shuffle=True)\n",
        "kf_cv_scores = cross_val_score(xgbr, x_train, y_train, cv=kfold)\n",
        "\n",
        "print(\"Training score: \", score)\n",
        "print(\"Mean cross-validation score: %.2f\" % scores.mean())\n",
        "print(\"K-Fold CV average score: %.2f\" % kf_cv_scores.mean())\n",
        "\n",
        "y_pred = xgbr.predict(x_test)\n",
        "mse = mean_squared_error(y_test, y_pred)\n",
        "print(\"RMSE: %.2f\" % (mse**(1/2.0)))"
      ],
      "metadata": {
        "id": "e7x56ACX-D2_",
        "colab": {
          "base_uri": "https://localhost:8080/"
        },
        "outputId": "8bfe8b38-d366-4924-8958-1d835caa14eb"
      },
      "id": "e7x56ACX-D2_",
      "execution_count": null,
      "outputs": [
        {
          "output_type": "stream",
          "name": "stdout",
          "text": [
            "Training score:  0.9950036873507402\n",
            "Mean cross-validation score: 0.25\n",
            "K-Fold CV average score: 0.15\n",
            "RMSE: 0.02\n",
            "CPU times: user 9.99 s, sys: 7.76 s, total: 17.7 s\n",
            "Wall time: 13.2 s\n"
          ]
        }
      ]
    },
    {
      "cell_type": "code",
      "source": [
        "print('Mean Absolute Error:', metrics.mean_absolute_error(y_test, y_pred))\n",
        "print('Mean Squared Error:', metrics.mean_squared_error(y_test, y_pred))\n",
        "print('Root Mean Squared Error:', metrics.mean_squared_error(y_test, y_pred, squared=False))\n",
        "print('Mean Absolute Percentage Error:', metrics.mean_absolute_percentage_error(y_test, y_pred))\n",
        "print('Coefficient of determination:', metrics.r2_score(y_test, y_pred))"
      ],
      "metadata": {
        "id": "0nDc98zWWBbO",
        "colab": {
          "base_uri": "https://localhost:8080/"
        },
        "outputId": "cd40d3f2-6b04-49fe-9e3b-fade935cacf3"
      },
      "id": "0nDc98zWWBbO",
      "execution_count": null,
      "outputs": [
        {
          "output_type": "stream",
          "name": "stdout",
          "text": [
            "Mean Absolute Error: 0.012295969906849523\n",
            "Mean Squared Error: 0.00034534425394163566\n",
            "Root Mean Squared Error: 0.018583440315012602\n",
            "Mean Absolute Percentage Error: 2.6307326589227027\n",
            "Coefficient of determination: 0.9066587162437202\n"
          ]
        }
      ]
    },
    {
      "cell_type": "markdown",
      "source": [
        "Plot the result"
      ],
      "metadata": {
        "id": "MjzZeM6cmvOq"
      },
      "id": "MjzZeM6cmvOq"
    },
    {
      "cell_type": "code",
      "source": [
        "df_y_test = pd.DataFrame(y_test)\n",
        "df_y_pred = pd.DataFrame(y_pred)\n",
        "\n",
        "df_y_test.reset_index(drop=True, inplace=True)\n",
        "df_y_pred.reset_index(drop=True, inplace=True)\n",
        "\n",
        "df_results = pd.concat([df_y_test, df_y_pred], axis=1)\n",
        "df_results.columns = ['Actual', 'Predicted']\n",
        "\n",
        "df_results"
      ],
      "metadata": {
        "id": "OzlVeE-Mmq_F",
        "colab": {
          "base_uri": "https://localhost:8080/",
          "height": 958
        },
        "outputId": "8532ed0e-4431-44b3-9319-3b4224128df6"
      },
      "id": "OzlVeE-Mmq_F",
      "execution_count": null,
      "outputs": [
        {
          "output_type": "execute_result",
          "data": {
            "text/plain": [
              "      Actual  Predicted\n",
              "0   0.301500   0.237183\n",
              "1   0.009400   0.016723\n",
              "2   0.029000  -0.016692\n",
              "3   0.000200  -0.005852\n",
              "4   0.001083   0.002700\n",
              "5   0.010000   0.015183\n",
              "6   0.054000   0.054183\n",
              "7   0.006967   0.004253\n",
              "8   0.004000  -0.005867\n",
              "9   0.002167   0.007818\n",
              "10  0.026100   0.046677\n",
              "11  0.007700   0.019453\n",
              "12  0.002100   0.005012\n",
              "13  0.006700   0.013280\n",
              "14  0.001003   0.006297\n",
              "15  0.019000   0.021694\n",
              "16  0.042000   0.020377\n",
              "17  0.006800   0.041124\n",
              "18  0.037500   0.040783\n",
              "19  0.001100   0.019813\n",
              "20  0.009200   0.015356\n",
              "21  0.038600   0.028574\n",
              "22  0.133000   0.116668\n",
              "23  0.029000   0.034389\n",
              "24  0.004017   0.002843\n",
              "25  0.014000   0.005572\n",
              "26  0.140000   0.152658\n",
              "27  0.014800   0.027144\n",
              "28  0.047100   0.039375"
            ],
            "text/html": [
              "\n",
              "  <div id=\"df-292d773f-1323-4cca-82d8-a195bb81659e\">\n",
              "    <div class=\"colab-df-container\">\n",
              "      <div>\n",
              "<style scoped>\n",
              "    .dataframe tbody tr th:only-of-type {\n",
              "        vertical-align: middle;\n",
              "    }\n",
              "\n",
              "    .dataframe tbody tr th {\n",
              "        vertical-align: top;\n",
              "    }\n",
              "\n",
              "    .dataframe thead th {\n",
              "        text-align: right;\n",
              "    }\n",
              "</style>\n",
              "<table border=\"1\" class=\"dataframe\">\n",
              "  <thead>\n",
              "    <tr style=\"text-align: right;\">\n",
              "      <th></th>\n",
              "      <th>Actual</th>\n",
              "      <th>Predicted</th>\n",
              "    </tr>\n",
              "  </thead>\n",
              "  <tbody>\n",
              "    <tr>\n",
              "      <th>0</th>\n",
              "      <td>0.301500</td>\n",
              "      <td>0.237183</td>\n",
              "    </tr>\n",
              "    <tr>\n",
              "      <th>1</th>\n",
              "      <td>0.009400</td>\n",
              "      <td>0.016723</td>\n",
              "    </tr>\n",
              "    <tr>\n",
              "      <th>2</th>\n",
              "      <td>0.029000</td>\n",
              "      <td>-0.016692</td>\n",
              "    </tr>\n",
              "    <tr>\n",
              "      <th>3</th>\n",
              "      <td>0.000200</td>\n",
              "      <td>-0.005852</td>\n",
              "    </tr>\n",
              "    <tr>\n",
              "      <th>4</th>\n",
              "      <td>0.001083</td>\n",
              "      <td>0.002700</td>\n",
              "    </tr>\n",
              "    <tr>\n",
              "      <th>5</th>\n",
              "      <td>0.010000</td>\n",
              "      <td>0.015183</td>\n",
              "    </tr>\n",
              "    <tr>\n",
              "      <th>6</th>\n",
              "      <td>0.054000</td>\n",
              "      <td>0.054183</td>\n",
              "    </tr>\n",
              "    <tr>\n",
              "      <th>7</th>\n",
              "      <td>0.006967</td>\n",
              "      <td>0.004253</td>\n",
              "    </tr>\n",
              "    <tr>\n",
              "      <th>8</th>\n",
              "      <td>0.004000</td>\n",
              "      <td>-0.005867</td>\n",
              "    </tr>\n",
              "    <tr>\n",
              "      <th>9</th>\n",
              "      <td>0.002167</td>\n",
              "      <td>0.007818</td>\n",
              "    </tr>\n",
              "    <tr>\n",
              "      <th>10</th>\n",
              "      <td>0.026100</td>\n",
              "      <td>0.046677</td>\n",
              "    </tr>\n",
              "    <tr>\n",
              "      <th>11</th>\n",
              "      <td>0.007700</td>\n",
              "      <td>0.019453</td>\n",
              "    </tr>\n",
              "    <tr>\n",
              "      <th>12</th>\n",
              "      <td>0.002100</td>\n",
              "      <td>0.005012</td>\n",
              "    </tr>\n",
              "    <tr>\n",
              "      <th>13</th>\n",
              "      <td>0.006700</td>\n",
              "      <td>0.013280</td>\n",
              "    </tr>\n",
              "    <tr>\n",
              "      <th>14</th>\n",
              "      <td>0.001003</td>\n",
              "      <td>0.006297</td>\n",
              "    </tr>\n",
              "    <tr>\n",
              "      <th>15</th>\n",
              "      <td>0.019000</td>\n",
              "      <td>0.021694</td>\n",
              "    </tr>\n",
              "    <tr>\n",
              "      <th>16</th>\n",
              "      <td>0.042000</td>\n",
              "      <td>0.020377</td>\n",
              "    </tr>\n",
              "    <tr>\n",
              "      <th>17</th>\n",
              "      <td>0.006800</td>\n",
              "      <td>0.041124</td>\n",
              "    </tr>\n",
              "    <tr>\n",
              "      <th>18</th>\n",
              "      <td>0.037500</td>\n",
              "      <td>0.040783</td>\n",
              "    </tr>\n",
              "    <tr>\n",
              "      <th>19</th>\n",
              "      <td>0.001100</td>\n",
              "      <td>0.019813</td>\n",
              "    </tr>\n",
              "    <tr>\n",
              "      <th>20</th>\n",
              "      <td>0.009200</td>\n",
              "      <td>0.015356</td>\n",
              "    </tr>\n",
              "    <tr>\n",
              "      <th>21</th>\n",
              "      <td>0.038600</td>\n",
              "      <td>0.028574</td>\n",
              "    </tr>\n",
              "    <tr>\n",
              "      <th>22</th>\n",
              "      <td>0.133000</td>\n",
              "      <td>0.116668</td>\n",
              "    </tr>\n",
              "    <tr>\n",
              "      <th>23</th>\n",
              "      <td>0.029000</td>\n",
              "      <td>0.034389</td>\n",
              "    </tr>\n",
              "    <tr>\n",
              "      <th>24</th>\n",
              "      <td>0.004017</td>\n",
              "      <td>0.002843</td>\n",
              "    </tr>\n",
              "    <tr>\n",
              "      <th>25</th>\n",
              "      <td>0.014000</td>\n",
              "      <td>0.005572</td>\n",
              "    </tr>\n",
              "    <tr>\n",
              "      <th>26</th>\n",
              "      <td>0.140000</td>\n",
              "      <td>0.152658</td>\n",
              "    </tr>\n",
              "    <tr>\n",
              "      <th>27</th>\n",
              "      <td>0.014800</td>\n",
              "      <td>0.027144</td>\n",
              "    </tr>\n",
              "    <tr>\n",
              "      <th>28</th>\n",
              "      <td>0.047100</td>\n",
              "      <td>0.039375</td>\n",
              "    </tr>\n",
              "  </tbody>\n",
              "</table>\n",
              "</div>\n",
              "      <button class=\"colab-df-convert\" onclick=\"convertToInteractive('df-292d773f-1323-4cca-82d8-a195bb81659e')\"\n",
              "              title=\"Convert this dataframe to an interactive table.\"\n",
              "              style=\"display:none;\">\n",
              "        \n",
              "  <svg xmlns=\"http://www.w3.org/2000/svg\" height=\"24px\"viewBox=\"0 0 24 24\"\n",
              "       width=\"24px\">\n",
              "    <path d=\"M0 0h24v24H0V0z\" fill=\"none\"/>\n",
              "    <path d=\"M18.56 5.44l.94 2.06.94-2.06 2.06-.94-2.06-.94-.94-2.06-.94 2.06-2.06.94zm-11 1L8.5 8.5l.94-2.06 2.06-.94-2.06-.94L8.5 2.5l-.94 2.06-2.06.94zm10 10l.94 2.06.94-2.06 2.06-.94-2.06-.94-.94-2.06-.94 2.06-2.06.94z\"/><path d=\"M17.41 7.96l-1.37-1.37c-.4-.4-.92-.59-1.43-.59-.52 0-1.04.2-1.43.59L10.3 9.45l-7.72 7.72c-.78.78-.78 2.05 0 2.83L4 21.41c.39.39.9.59 1.41.59.51 0 1.02-.2 1.41-.59l7.78-7.78 2.81-2.81c.8-.78.8-2.07 0-2.86zM5.41 20L4 18.59l7.72-7.72 1.47 1.35L5.41 20z\"/>\n",
              "  </svg>\n",
              "      </button>\n",
              "      \n",
              "  <style>\n",
              "    .colab-df-container {\n",
              "      display:flex;\n",
              "      flex-wrap:wrap;\n",
              "      gap: 12px;\n",
              "    }\n",
              "\n",
              "    .colab-df-convert {\n",
              "      background-color: #E8F0FE;\n",
              "      border: none;\n",
              "      border-radius: 50%;\n",
              "      cursor: pointer;\n",
              "      display: none;\n",
              "      fill: #1967D2;\n",
              "      height: 32px;\n",
              "      padding: 0 0 0 0;\n",
              "      width: 32px;\n",
              "    }\n",
              "\n",
              "    .colab-df-convert:hover {\n",
              "      background-color: #E2EBFA;\n",
              "      box-shadow: 0px 1px 2px rgba(60, 64, 67, 0.3), 0px 1px 3px 1px rgba(60, 64, 67, 0.15);\n",
              "      fill: #174EA6;\n",
              "    }\n",
              "\n",
              "    [theme=dark] .colab-df-convert {\n",
              "      background-color: #3B4455;\n",
              "      fill: #D2E3FC;\n",
              "    }\n",
              "\n",
              "    [theme=dark] .colab-df-convert:hover {\n",
              "      background-color: #434B5C;\n",
              "      box-shadow: 0px 1px 3px 1px rgba(0, 0, 0, 0.15);\n",
              "      filter: drop-shadow(0px 1px 2px rgba(0, 0, 0, 0.3));\n",
              "      fill: #FFFFFF;\n",
              "    }\n",
              "  </style>\n",
              "\n",
              "      <script>\n",
              "        const buttonEl =\n",
              "          document.querySelector('#df-292d773f-1323-4cca-82d8-a195bb81659e button.colab-df-convert');\n",
              "        buttonEl.style.display =\n",
              "          google.colab.kernel.accessAllowed ? 'block' : 'none';\n",
              "\n",
              "        async function convertToInteractive(key) {\n",
              "          const element = document.querySelector('#df-292d773f-1323-4cca-82d8-a195bb81659e');\n",
              "          const dataTable =\n",
              "            await google.colab.kernel.invokeFunction('convertToInteractive',\n",
              "                                                     [key], {});\n",
              "          if (!dataTable) return;\n",
              "\n",
              "          const docLinkHtml = 'Like what you see? Visit the ' +\n",
              "            '<a target=\"_blank\" href=https://colab.research.google.com/notebooks/data_table.ipynb>data table notebook</a>'\n",
              "            + ' to learn more about interactive tables.';\n",
              "          element.innerHTML = '';\n",
              "          dataTable['output_type'] = 'display_data';\n",
              "          await google.colab.output.renderOutput(dataTable, element);\n",
              "          const docLink = document.createElement('div');\n",
              "          docLink.innerHTML = docLinkHtml;\n",
              "          element.appendChild(docLink);\n",
              "        }\n",
              "      </script>\n",
              "    </div>\n",
              "  </div>\n",
              "  "
            ]
          },
          "metadata": {},
          "execution_count": 21
        }
      ]
    },
    {
      "cell_type": "code",
      "source": [
        "plt.figure(figsize=(12,6))\n",
        "plt.scatter(range(len(y_pred)), y_pred,color = 'green', label= 'Predictions')\n",
        "plt.plot(range(len(y_test)), y_test,color = 'yellow', label= 'Experiment Data')\n",
        "plt.title('Xgboost Result')\n",
        "plt.ylabel('Prediction')\n",
        "plt.xlabel('Data')\n",
        "plt.legend()\n",
        "plt.show()"
      ],
      "metadata": {
        "id": "kGpOofk4lC_u",
        "colab": {
          "base_uri": "https://localhost:8080/",
          "height": 564
        },
        "outputId": "992bbe6d-b8b3-4234-cf74-2252737292f2"
      },
      "id": "kGpOofk4lC_u",
      "execution_count": null,
      "outputs": [
        {
          "output_type": "display_data",
          "data": {
            "text/plain": [
              "<Figure size 1200x600 with 1 Axes>"
            ],
            "image/png": "[encoded data removed]"
          },
          "metadata": {}
        }
      ]
    },
    {
      "cell_type": "code",
      "source": [
        "import seaborn as sns\n",
        "\n",
        "fig, ax = plt.subplots(figsize=(8, 6), constrained_layout=True)\n",
        "sns.regplot(x=df_y_test, y=df_y_pred, ax=ax, color='green', scatter_kws={\"fc\":\"b\", \"ec\":\"b\", \"s\":100, \"alpha\":0.3})\n",
        "ax.set_xlabel(\"Experiment data\", fontsize = 20)\n",
        "ax.set_ylabel(\"Predictions\", fontsize = 20)\n",
        "plt.title('Actual vs. Predicted', fontsize = 20)\n",
        "plt.xticks(size=18)\n",
        "plt.yticks(size=18)\n",
        "\n",
        "\n",
        "fig.savefig(\"103_snsreglmplot_01.png\")"
      ],
      "metadata": {
        "id": "HacIxoKQYLso",
        "colab": {
          "base_uri": "https://localhost:8080/",
          "height": 628
        },
        "outputId": "f468d83c-7b47-49cf-956b-9ff744c5ea07"
      },
      "id": "HacIxoKQYLso",
      "execution_count": null,
      "outputs": [
        {
          "output_type": "display_data",
          "data": {
            "text/plain": [
              "<Figure size 800x600 with 1 Axes>"
            ],
            "image/png": "[encoded data removed]"
          },
          "metadata": {}
        }
      ]
    },
    {
      "cell_type": "code",
      "source": [
        "plt.barh(cols, weight, color ='khaki')\n",
        "plt.xlabel(\"Feature important weight\")\n",
        "plt.title('XGB Feature Importance - Gain Type', fontsize = 14)\n",
        "plt.show()"
      ],
      "metadata": {
        "colab": {
          "base_uri": "https://localhost:8080/",
          "height": 473
        },
        "id": "0xBcTQ-aV_q1",
        "outputId": "ff5ff37a-d88a-48d4-ce8f-bbe245e83323"
      },
      "id": "0xBcTQ-aV_q1",
      "execution_count": null,
      "outputs": [
        {
          "output_type": "display_data",
          "data": {
            "text/plain": [
              "<Figure size 640x480 with 1 Axes>"
            ],
            "image/png": "[encoded data removed]"
          },
          "metadata": {}
        }
      ]
    }
  ],
  "metadata": {
    "colab": {
      "provenance": []
    },
    "kernelspec": {
      "display_name": "Python 3",
      "language": "python",
      "name": "python3"
    },
    "language_info": {
      "codemirror_mode": {
        "name": "ipython",
        "version": 3
      },
      "file_extension": ".py",
      "mimetype": "text/x-python",
      "name": "python",
      "nbconvert_exporter": "python",
      "pygments_lexer": "ipython3",
      "version": "3.8.8"
    }
  },
  "nbformat": 4,
  "nbformat_minor": 5
}